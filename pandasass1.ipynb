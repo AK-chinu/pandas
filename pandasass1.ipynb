{
 "cells": [
  {
   "cell_type": "markdown",
   "id": "47a8aa92-d3b6-45bd-a7c2-20c7a20c19e7",
   "metadata": {},
   "source": [
    "# Q1. Create a Pandas Series that contains the following data: 4, 8, 15, 16, 23, and 42. Then, print the series."
   ]
  },
  {
   "cell_type": "code",
   "execution_count": 1,
   "id": "05c12c74-b9a6-48ba-b98e-c37d122c92fe",
   "metadata": {},
   "outputs": [
    {
     "name": "stdout",
     "output_type": "stream",
     "text": [
      "0     4\n",
      "1     8\n",
      "2    15\n",
      "3    16\n",
      "4    23\n",
      "5    42\n",
      "dtype: int64\n"
     ]
    }
   ],
   "source": [
    "import pandas as pd\n",
    "\n",
    "# Create Pandas Series\n",
    "data = [4, 8, 15, 16, 23, 42]\n",
    "series = pd.Series(data)\n",
    "\n",
    "# Print the series\n",
    "print(series)\n"
   ]
  },
  {
   "cell_type": "markdown",
   "id": "fcb6b107-3a21-4479-88c1-f68cee2661e9",
   "metadata": {},
   "source": [
    "# Q2. Create a variable of list type containing 10 elements in it, and apply pandas.Series function on the variable print it."
   ]
  },
  {
   "cell_type": "code",
   "execution_count": 3,
   "id": "c61b676d-2f2f-410c-9262-18182146e45b",
   "metadata": {},
   "outputs": [
    {
     "name": "stdout",
     "output_type": "stream",
     "text": [
      "0     1\n",
      "1     2\n",
      "2     3\n",
      "3     4\n",
      "4     5\n",
      "5     6\n",
      "6     7\n",
      "7     8\n",
      "8     9\n",
      "9    10\n",
      "dtype: int64\n"
     ]
    }
   ],
   "source": [
    "import pandas as pd\n",
    "\n",
    "# Create a list with 10 elements\n",
    "my_list = [1, 2, 3, 4, 5, 6, 7, 8, 9, 10]\n",
    "\n",
    "# Convert the list into a Pandas Series\n",
    "series = pd.Series(my_list)\n",
    "\n",
    "# Print the series\n",
    "print(series)\n"
   ]
  },
  {
   "cell_type": "code",
   "execution_count": 4,
   "id": "00ba6669-301b-4839-9b3f-9aa4e31238dd",
   "metadata": {},
   "outputs": [
    {
     "name": "stdout",
     "output_type": "stream",
     "text": [
      "     Name  Age  Gender\n",
      "0   Alice   25  Female\n",
      "1     Bob   30    Male\n",
      "2  Claire   27  Female\n"
     ]
    }
   ],
   "source": [
    "import pandas as pd\n",
    "\n",
    "# Create a dictionary containing the data\n",
    "data = {\n",
    "    'Name': ['Alice', 'Bob', 'Claire'],\n",
    "    'Age': [25, 30, 27],\n",
    "    'Gender': ['Female', 'Male', 'Female']\n",
    "}\n",
    "\n",
    "# Create the DataFrame\n",
    "df = pd.DataFrame(data)\n",
    "\n",
    "# Print the DataFrame\n",
    "print(df)\n"
   ]
  },
  {
   "cell_type": "markdown",
   "id": "5785984b-d49c-443f-805c-80f1af64bd23",
   "metadata": {},
   "source": [
    "# Q4. What is ‘DataFrame’ in pandas and how is it different from pandas.series? Explain with an example."
   ]
  },
  {
   "cell_type": "markdown",
   "id": "c64e74cc-dfe0-4cfc-8948-bd39550d63f1",
   "metadata": {},
   "source": [
    "In Pandas, a DataFrame is a two-dimensional labeled data structure with columns that can contain different data types. It can be thought of as a table or spreadsheet-like structure where data is stored in rows and columns. Each column in a DataFrame is a Pandas Series.\n",
    "\n",
    "A Pandas Series, on the other hand, is a one-dimensional labeled array capable of holding any data type (e.g., integers, strings, floating-point numbers, Python objects, etc.). It can be thought of as a single column in a DataFrame."
   ]
  },
  {
   "cell_type": "code",
   "execution_count": 5,
   "id": "4c0113b5-aaec-4f28-bfae-d2c11176134c",
   "metadata": {},
   "outputs": [
    {
     "name": "stdout",
     "output_type": "stream",
     "text": [
      "DataFrame:\n",
      "     Name  Age  Gender\n",
      "0   Alice   25  Female\n",
      "1     Bob   30    Male\n",
      "2  Claire   27  Female\n",
      "\n",
      "Series:\n",
      "0    25\n",
      "1    30\n",
      "2    27\n",
      "dtype: int64\n"
     ]
    }
   ],
   "source": [
    "import pandas as pd\n",
    "\n",
    "# Creating a DataFrame\n",
    "data = {\n",
    "    'Name': ['Alice', 'Bob', 'Claire'],\n",
    "    'Age': [25, 30, 27],\n",
    "    'Gender': ['Female', 'Male', 'Female']\n",
    "}\n",
    "df = pd.DataFrame(data)\n",
    "\n",
    "# Creating a Series\n",
    "ages_series = pd.Series([25, 30, 27])\n",
    "\n",
    "# Printing DataFrame and Series\n",
    "print(\"DataFrame:\")\n",
    "print(df)\n",
    "print(\"\\nSeries:\")\n",
    "print(ages_series)\n"
   ]
  },
  {
   "cell_type": "markdown",
   "id": "e1c066b6-b68b-42f5-999e-ec31a83b2a5d",
   "metadata": {},
   "source": [
    "# Q5. What are some common functions you can use to manipulate data in a Pandas DataFrame? Can you give an example of when you might use one of these functions?"
   ]
  },
  {
   "cell_type": "markdown",
   "id": "d16362fb-7698-4f6a-8425-f28e76b32bee",
   "metadata": {},
   "source": [
    "There are several common functions in Pandas that are used to manipulate data in a DataFrame. Some of these functions include:\n",
    "\n",
    "head() and tail(): These functions are used to view the first or last few rows of a DataFrame, respectively. They are useful for quickly inspecting the structure and contents of a DataFrame.\n",
    "\n",
    "info(): This function provides a concise summary of a DataFrame, including the data types of each column and information about missing values. It's helpful for understanding the overall structure and properties of the DataFrame.\n",
    "\n",
    "describe(): This function generates descriptive statistics for numerical columns in a DataFrame, such as count, mean, standard deviation, minimum, and maximum values. It's useful for gaining insights into the distribution and summary statistics of numerical data.\n",
    "\n",
    "iloc[] and loc[]: These are used for selecting rows and columns by integer index positions (iloc[]) or by label (loc[]). They allow for flexible and precise selection of data subsets within a DataFrame.\n",
    "\n",
    "drop(): This function is used to remove rows or columns from a DataFrame. It's helpful for cleaning or preprocessing data by eliminating unnecessary or redundant information.\n",
    "\n",
    "fillna(): This function is used to fill missing values in a DataFrame with specified values. It's useful for handling missing data and ensuring consistency in the dataset.\n",
    "\n",
    "groupby(): This function is used for grouping rows in a DataFrame based on one or more columns, followed by applying aggregation functions to the grouped data. It's helpful for performing group-wise analysis and summarization of data.\n",
    "\n",
    "apply() and applymap(): These functions are used for applying custom functions to elements of a DataFrame (apply()) or for applying functions element-wise to each element of a DataFrame (applymap()). They are useful for performing custom data transformations or calculations."
   ]
  },
  {
   "cell_type": "code",
   "execution_count": null,
   "id": "a577bf77-ea95-458c-91bd-406a0f3a56c2",
   "metadata": {},
   "outputs": [],
   "source": [
    "import pandas as pd\n",
    "\n",
    "# Assuming 'sales_data' is your DataFrame\n",
    "# Grouping by product and calculating total quantity sold\n",
    "product_sales = sales_data.groupby('product')['quantity_sold'].sum()\n",
    "\n",
    "# Printing the total sales quantity for each product\n",
    "print(product_sales)\n"
   ]
  },
  {
   "cell_type": "markdown",
   "id": "1f0c1407-c8dd-495b-a225-7b5889bb733b",
   "metadata": {},
   "source": [
    "# Q6. Which of the following is mutable in nature Series, DataFrame, Panel?\n"
   ]
  },
  {
   "cell_type": "code",
   "execution_count": null,
   "id": "c6fb8a37-99b4-4e6d-94b6-285d3583c290",
   "metadata": {},
   "outputs": [],
   "source": [
    "# Q7. Create a DataFrame using multiple Series. Explain with an example."
   ]
  }
 ],
 "metadata": {
  "kernelspec": {
   "display_name": "Python 3 (ipykernel)",
   "language": "python",
   "name": "python3"
  },
  "language_info": {
   "codemirror_mode": {
    "name": "ipython",
    "version": 3
   },
   "file_extension": ".py",
   "mimetype": "text/x-python",
   "name": "python",
   "nbconvert_exporter": "python",
   "pygments_lexer": "ipython3",
   "version": "3.10.8"
  }
 },
 "nbformat": 4,
 "nbformat_minor": 5
}
